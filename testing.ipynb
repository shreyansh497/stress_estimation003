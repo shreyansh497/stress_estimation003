{
 "cells": [
  {
   "cell_type": "code",
   "execution_count": 1,
   "id": "d88939cb-0aed-4591-af02-d49f89eb8031",
   "metadata": {},
   "outputs": [],
   "source": [
    "import pickle as pkl\n",
    "import numpy as np\n",
    "import pandas as pd"
   ]
  },
  {
   "cell_type": "markdown",
   "id": "4a210ddd-42cd-487d-8544-cdf7fb01dac4",
   "metadata": {},
   "source": [
    "testing by logistic regression\n"
   ]
  },
  {
   "cell_type": "code",
   "execution_count": 10,
   "id": "359d48f2-98b0-47f7-a3f4-e1055ffd0ad7",
   "metadata": {},
   "outputs": [],
   "source": [
    "\n",
    "pipe1=pkl.load(open(\"stress_estimation_lr.pkl\",\"rb\"))"
   ]
  },
  {
   "cell_type": "code",
   "execution_count": 11,
   "id": "4c32dc7d-3822-496e-92ad-e81c9c4efb89",
   "metadata": {},
   "outputs": [
    {
     "data": {
      "text/plain": [
       "array([[6.0, 'Male', 'College', 'Average', 7.5, 3.0, 69.0, 8]],\n",
       "      dtype=object)"
      ]
     },
     "execution_count": 11,
     "metadata": {},
     "output_type": "execute_result"
    }
   ],
   "source": [
    "a=np.array([6.0,\"Male\",\"College\",\"Average\",7.5,3.0,69.0,8],dtype=object).reshape(1,8)\n",
    "a\n"
   ]
  },
  {
   "cell_type": "code",
   "execution_count": 12,
   "id": "4bdb59d4-101c-4f17-aed1-93f33771d0e9",
   "metadata": {},
   "outputs": [],
   "source": [
    "a=pd.DataFrame(a,columns=[\"social_interaction_score\",\"gender\",\"student_type\",\"sleep_quality\",\"sleephoursimputed\",\"screentimeimputedinhours\",\"physicalactmins\",\"moodscore\"])"
   ]
  },
  {
   "cell_type": "code",
   "execution_count": 13,
   "id": "a1baf1af-2dba-41b5-b66a-d7f246b2d3cf",
   "metadata": {},
   "outputs": [
    {
     "data": {
      "text/html": [
       "<div>\n",
       "<style scoped>\n",
       "    .dataframe tbody tr th:only-of-type {\n",
       "        vertical-align: middle;\n",
       "    }\n",
       "\n",
       "    .dataframe tbody tr th {\n",
       "        vertical-align: top;\n",
       "    }\n",
       "\n",
       "    .dataframe thead th {\n",
       "        text-align: right;\n",
       "    }\n",
       "</style>\n",
       "<table border=\"1\" class=\"dataframe\">\n",
       "  <thead>\n",
       "    <tr style=\"text-align: right;\">\n",
       "      <th></th>\n",
       "      <th>social_interaction_score</th>\n",
       "      <th>gender</th>\n",
       "      <th>student_type</th>\n",
       "      <th>sleep_quality</th>\n",
       "      <th>sleephoursimputed</th>\n",
       "      <th>screentimeimputedinhours</th>\n",
       "      <th>physicalactmins</th>\n",
       "      <th>moodscore</th>\n",
       "    </tr>\n",
       "  </thead>\n",
       "  <tbody>\n",
       "    <tr>\n",
       "      <th>0</th>\n",
       "      <td>6.0</td>\n",
       "      <td>Male</td>\n",
       "      <td>College</td>\n",
       "      <td>Average</td>\n",
       "      <td>7.5</td>\n",
       "      <td>3.0</td>\n",
       "      <td>69.0</td>\n",
       "      <td>8</td>\n",
       "    </tr>\n",
       "  </tbody>\n",
       "</table>\n",
       "</div>"
      ],
      "text/plain": [
       "  social_interaction_score gender student_type sleep_quality  \\\n",
       "0                      6.0   Male      College       Average   \n",
       "\n",
       "  sleephoursimputed screentimeimputedinhours physicalactmins moodscore  \n",
       "0               7.5                      3.0            69.0         8  "
      ]
     },
     "execution_count": 13,
     "metadata": {},
     "output_type": "execute_result"
    }
   ],
   "source": [
    "a"
   ]
  },
  {
   "cell_type": "code",
   "execution_count": 14,
   "id": "0b5434bd-a57c-426a-a32a-437da6ae844b",
   "metadata": {},
   "outputs": [
    {
     "data": {
      "text/plain": [
       "array([1])"
      ]
     },
     "execution_count": 14,
     "metadata": {},
     "output_type": "execute_result"
    }
   ],
   "source": [
    "pipe1.predict(a)"
   ]
  },
  {
   "cell_type": "code",
   "execution_count": 15,
   "id": "e75c10bb-5f88-4c6d-8ea0-493888229f9e",
   "metadata": {},
   "outputs": [],
   "source": [
    "b=np.array([5.2,\"Male\",\"Working\",\"Poor\",4.5,5.8,23.0,3],dtype=object).reshape(1,8)\n",
    "a=pd.DataFrame(b,columns=[\"social_interaction_score\",\"gender\",\"student_type\",\"sleep_quality\",\"sleephoursimputed\",\"screentimeimputedinhours\",\"physicalactmins\",\"moodscore\"])\n"
   ]
  },
  {
   "cell_type": "code",
   "execution_count": 16,
   "id": "fa4733f7-c3b4-4095-ac24-c65bdc9944f9",
   "metadata": {},
   "outputs": [
    {
     "data": {
      "text/html": [
       "<div>\n",
       "<style scoped>\n",
       "    .dataframe tbody tr th:only-of-type {\n",
       "        vertical-align: middle;\n",
       "    }\n",
       "\n",
       "    .dataframe tbody tr th {\n",
       "        vertical-align: top;\n",
       "    }\n",
       "\n",
       "    .dataframe thead th {\n",
       "        text-align: right;\n",
       "    }\n",
       "</style>\n",
       "<table border=\"1\" class=\"dataframe\">\n",
       "  <thead>\n",
       "    <tr style=\"text-align: right;\">\n",
       "      <th></th>\n",
       "      <th>social_interaction_score</th>\n",
       "      <th>gender</th>\n",
       "      <th>student_type</th>\n",
       "      <th>sleep_quality</th>\n",
       "      <th>sleephoursimputed</th>\n",
       "      <th>screentimeimputedinhours</th>\n",
       "      <th>physicalactmins</th>\n",
       "      <th>moodscore</th>\n",
       "    </tr>\n",
       "  </thead>\n",
       "  <tbody>\n",
       "    <tr>\n",
       "      <th>0</th>\n",
       "      <td>5.2</td>\n",
       "      <td>Male</td>\n",
       "      <td>Working</td>\n",
       "      <td>Poor</td>\n",
       "      <td>4.5</td>\n",
       "      <td>5.8</td>\n",
       "      <td>23.0</td>\n",
       "      <td>3</td>\n",
       "    </tr>\n",
       "  </tbody>\n",
       "</table>\n",
       "</div>"
      ],
      "text/plain": [
       "  social_interaction_score gender student_type sleep_quality  \\\n",
       "0                      5.2   Male      Working          Poor   \n",
       "\n",
       "  sleephoursimputed screentimeimputedinhours physicalactmins moodscore  \n",
       "0               4.5                      5.8            23.0         3  "
      ]
     },
     "execution_count": 16,
     "metadata": {},
     "output_type": "execute_result"
    }
   ],
   "source": [
    "a"
   ]
  },
  {
   "cell_type": "code",
   "execution_count": 17,
   "id": "6ebad724-0a23-447b-b8f1-5a392946dbf9",
   "metadata": {},
   "outputs": [
    {
     "data": {
      "text/plain": [
       "array([0])"
      ]
     },
     "execution_count": 17,
     "metadata": {},
     "output_type": "execute_result"
    }
   ],
   "source": [
    "pipe1.predict(a)"
   ]
  },
  {
   "cell_type": "markdown",
   "id": "d73fcb35-3d2d-4fde-91f5-f38aba9607d7",
   "metadata": {},
   "source": [
    "testing by random forest"
   ]
  },
  {
   "cell_type": "code",
   "execution_count": 18,
   "id": "0d5dc68f-cd00-479b-a34f-5dc2e7708210",
   "metadata": {},
   "outputs": [],
   "source": [
    "pipe2=pkl.load(open(\"stress_estimation_lr.pkl\",\"rb\"))"
   ]
  },
  {
   "cell_type": "code",
   "execution_count": 19,
   "id": "75c53447-566e-433a-be00-e252430523bd",
   "metadata": {},
   "outputs": [],
   "source": [
    "c=np.array([7.0,\"Female\",\"College\",\"Average\",7.5,3.0,69.0,8],dtype=object).reshape(1,8)\n",
    "c=pd.DataFrame(c,columns=[\"social_interaction_score\",\"gender\",\"student_type\",\"sleep_quality\",\"sleephoursimputed\",\"screentimeimputedinhours\",\"physicalactmins\",\"moodscore\"])"
   ]
  },
  {
   "cell_type": "code",
   "execution_count": null,
   "id": "e0fdb91d-65a4-4fb1-93b2-b5f749497846",
   "metadata": {},
   "outputs": [],
   "source": []
  }
 ],
 "metadata": {
  "kernelspec": {
   "display_name": "Python (redcrow)",
   "language": "python",
   "name": "redcrow"
  },
  "language_info": {
   "codemirror_mode": {
    "name": "ipython",
    "version": 3
   },
   "file_extension": ".py",
   "mimetype": "text/x-python",
   "name": "python",
   "nbconvert_exporter": "python",
   "pygments_lexer": "ipython3",
   "version": "3.13.5"
  }
 },
 "nbformat": 4,
 "nbformat_minor": 5
}
